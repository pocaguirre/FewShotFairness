{
 "cells": [
  {
   "cell_type": "code",
   "execution_count": 2,
   "metadata": {
    "tags": []
   },
   "outputs": [],
   "source": [
    "import ast\n",
    "\n",
    "import copy\n",
    "\n",
    "import os\n",
    "\n",
    "from typing import List, Tuple\n",
    "\n",
    "import numpy as np\n",
    "import pandas as pd \n",
    "\n",
    "from scipy.stats import kruskal\n",
    "\n",
    "from sklearn.metrics import f1_score, confusion_matrix\n",
    "\n",
    "from tqdm import tqdm"
   ]
  },
  {
   "cell_type": "code",
   "execution_count": 3,
   "metadata": {
    "tags": []
   },
   "outputs": [],
   "source": [
    "import warnings\n",
    "warnings.filterwarnings(\"ignore\")"
   ]
  },
  {
   "cell_type": "code",
   "execution_count": 4,
   "metadata": {
    "tags": []
   },
   "outputs": [],
   "source": [
    "data_dir = \"/home/ksasse/code/fairness/output/used_results/\"\n",
    "\n",
    "models = [\n",
    "    \"10shot_ul2\",\n",
    "    \"10shot_flan_ul2\",\n",
    "    \"10shot_llama_13b\",\n",
    "    \"10shot_llama_65b\",\n",
    "    \"10shot_alpaca_13b\",\n",
    "    \"10shot_alpaca_7b\"\n",
    "]\n",
    "\n",
    "protected_att = [\n",
    "    \"10shot_protected_category_ul2\",\n",
    "    \"10shot_matrix_protected_category_prompts_flanul2\",\n",
    "    \"10shot_protected_category_llama_13b\",\n",
    "    \"10shot_protected_category_llama_65b\",\n",
    "    \"10shot_protected_category_alpaca_13b\",\n",
    "    \"10shot_protected_category_alpaca_7b\",\n",
    "]\n",
    "\n",
    "\n",
    "resamples = 100"
   ]
  },
  {
   "cell_type": "code",
   "execution_count": 5,
   "metadata": {
    "tags": []
   },
   "outputs": [],
   "source": [
    "def open_and_clean_file(file: str) -> Tuple[List[int], List[int], List[int]]:\n",
    "\n",
    "    overall_demographics =  {\"aae\": ['aa', 'wh'], \"hatexplain-race\": [\"African\", \"Arab\", \"Asian\", \"Hispanic\", \"Caucasian\"], \"bias\": [\"m\", \"f\"]}\n",
    "    labels_map = {\"aae\" : {\"happy\": 1, \"sad\": 0, \"fail________\" : -1}, \"hatexplain-race\": {\"yes\" : 1, \"no\" : 0, \"fail________\" : -1}, \"bias\" : {\"attorney\": 0, \"photographer\": 1, \"dentist\" : 2, \"psychologist\" : 3, \"physician\": 4, \"journalist\" : 5, \"teacher\": 6, \"professor\": 7, \"fail________\" : -1}}\n",
    "\n",
    "    results = pd.read_csv(file)\n",
    "\n",
    "    if \"flan\" not in file and \"ul2\" not in file and \"gpt\" not in file:\n",
    "        results['prompt_len'] = results.prompt.str.len()\n",
    "        results['response'] = results.apply(lambda x: x.response[x.prompt_len:], axis=1)\n",
    "\n",
    "    responses = results['response'].fillna(\"\").tolist()\n",
    "    labels = results['label'].tolist()\n",
    "\n",
    "    demographics = [ast.literal_eval(x) for x in results['demographic'].tolist()]\n",
    "\n",
    "    model_name, dataset, demonstration = os.path.basename(file).split(\"_\")\n",
    "    demonstration = demonstration[:-4]\n",
    "\n",
    "    dataset_overall_demographics = overall_demographics[dataset]\n",
    "\n",
    "    responses = [x.lower() for x in responses]\n",
    "\n",
    "    conv = lambda i: i or \"\"\n",
    "    responses = [conv(i) for i in responses]\n",
    "\n",
    "    if dataset == \"bias\":\n",
    "        responses = [x.replace(\"lawyer\", \"attorney\") for x in responses]\n",
    "\n",
    "    # map labels to numbers to make it easier for sklearn calculations\n",
    "    labels_dict = labels_map[dataset]\n",
    "\n",
    "    labels_set = list(labels_dict.keys())\n",
    "\n",
    "    # map the labels lists to dummy labels\n",
    "    dummy_labels = [labels_dict[x] for x in labels]\n",
    "\n",
    "    dummy_preds = []\n",
    "\n",
    "    for pred in responses:\n",
    "        # see if any of the labels are in the response\n",
    "        for label in labels_set:\n",
    "            if pred.find(label) != -1:\n",
    "                dummy_preds.append(labels_dict[label])\n",
    "                break\n",
    "            # if not we add -1 instead\n",
    "        else:\n",
    "            dummy_preds.append(-1)\n",
    "\n",
    "    dummy_preds = np.array(dummy_preds)\n",
    "    dummy_labels = np.array(dummy_labels)\n",
    "\n",
    "    demographic_index = [\n",
    "        i\n",
    "        for i, item in enumerate(demographics)\n",
    "        if len(set(dataset_overall_demographics).intersection(set(item))) != 0\n",
    "    ]\n",
    "\n",
    "    dummy_preds = dummy_preds[demographic_index]\n",
    "    dummy_labels = dummy_labels[demographic_index]\n",
    "\n",
    "    demographics_filtered = copy.deepcopy([demographics[i] for i in demographic_index])\n",
    "\n",
    "    return dummy_preds, dummy_labels, demographics_filtered, dataset_overall_demographics, labels_dict\n",
    "    "
   ]
  },
  {
   "cell_type": "markdown",
   "metadata": {
    "tags": []
   },
   "source": [
    "# Experiment Results"
   ]
  },
  {
   "cell_type": "code",
   "execution_count": 15,
   "metadata": {
    "tags": []
   },
   "outputs": [
    {
     "name": "stdout",
     "output_type": "stream",
     "text": [
      "doing 10shot_ul2\n"
     ]
    },
    {
     "name": "stderr",
     "output_type": "stream",
     "text": [
      "100%|█████████████████████████████████████████████████████████████████| 18/18 [00:02<00:00,  6.42it/s]\n"
     ]
    },
    {
     "name": "stdout",
     "output_type": "stream",
     "text": [
      "doing 10shot_flan_ul2\n"
     ]
    },
    {
     "name": "stderr",
     "output_type": "stream",
     "text": [
      "100%|█████████████████████████████████████████████████████████████████| 19/19 [00:02<00:00,  6.64it/s]\n"
     ]
    },
    {
     "name": "stdout",
     "output_type": "stream",
     "text": [
      "doing 10shot_llama_13b\n"
     ]
    },
    {
     "name": "stderr",
     "output_type": "stream",
     "text": [
      "100%|█████████████████████████████████████████████████████████████████| 18/18 [00:05<00:00,  3.41it/s]\n"
     ]
    },
    {
     "name": "stdout",
     "output_type": "stream",
     "text": [
      "doing 10shot_llama_65b\n"
     ]
    },
    {
     "name": "stderr",
     "output_type": "stream",
     "text": [
      "100%|█████████████████████████████████████████████████████████████████| 18/18 [00:05<00:00,  3.40it/s]\n"
     ]
    },
    {
     "name": "stdout",
     "output_type": "stream",
     "text": [
      "doing 10shot_alpaca_13b\n"
     ]
    },
    {
     "name": "stderr",
     "output_type": "stream",
     "text": [
      "100%|█████████████████████████████████████████████████████████████████| 18/18 [00:05<00:00,  3.35it/s]\n"
     ]
    },
    {
     "name": "stdout",
     "output_type": "stream",
     "text": [
      "doing 10shot_alpaca_7b\n"
     ]
    },
    {
     "name": "stderr",
     "output_type": "stream",
     "text": [
      "100%|█████████████████████████████████████████████████████████████████| 18/18 [00:05<00:00,  3.36it/s]\n"
     ]
    },
    {
     "name": "stdout",
     "output_type": "stream",
     "text": [
      "doing 10shot_protected_category_ul2\n"
     ]
    },
    {
     "name": "stderr",
     "output_type": "stream",
     "text": [
      "100%|█████████████████████████████████████████████████████████████████| 18/18 [00:02<00:00,  6.00it/s]\n"
     ]
    },
    {
     "name": "stdout",
     "output_type": "stream",
     "text": [
      "doing 10shot_matrix_protected_category_prompts_flanul2\n"
     ]
    },
    {
     "name": "stderr",
     "output_type": "stream",
     "text": [
      "100%|█████████████████████████████████████████████████████████████████| 30/30 [00:03<00:00,  9.98it/s]\n"
     ]
    },
    {
     "name": "stdout",
     "output_type": "stream",
     "text": [
      "doing 10shot_protected_category_llama_13b\n"
     ]
    },
    {
     "name": "stderr",
     "output_type": "stream",
     "text": [
      "100%|█████████████████████████████████████████████████████████████████| 18/18 [00:05<00:00,  3.17it/s]\n"
     ]
    },
    {
     "name": "stdout",
     "output_type": "stream",
     "text": [
      "doing 10shot_protected_category_llama_65b\n"
     ]
    },
    {
     "name": "stderr",
     "output_type": "stream",
     "text": [
      "100%|█████████████████████████████████████████████████████████████████| 18/18 [00:05<00:00,  3.18it/s]\n"
     ]
    },
    {
     "name": "stdout",
     "output_type": "stream",
     "text": [
      "doing 10shot_protected_category_alpaca_13b\n"
     ]
    },
    {
     "name": "stderr",
     "output_type": "stream",
     "text": [
      "100%|█████████████████████████████████████████████████████████████████| 18/18 [00:05<00:00,  3.15it/s]\n"
     ]
    },
    {
     "name": "stdout",
     "output_type": "stream",
     "text": [
      "doing 10shot_protected_category_alpaca_7b\n"
     ]
    },
    {
     "name": "stderr",
     "output_type": "stream",
     "text": [
      "100%|█████████████████████████████████████████████████████████████████| 18/18 [00:05<00:00,  3.12it/s]\n"
     ]
    }
   ],
   "source": [
    "# folders = [os.path.join(data_dir, x) for x in os.listdir(data_dir)]\n",
    "\n",
    "import csv\n",
    "from sklearn.metrics import recall_score\n",
    "from tqdm import tqdm\n",
    "import pdb\n",
    "\n",
    "normal = [os.path.join(data_dir, x) for x in models]\n",
    "protected = [os.path.join(data_dir, x) for x in protected_att]\n",
    "with open(\"protected_results.csv\",\"w\",) as csvfile:\n",
    "    csvwriter = csv.writer(csvfile)\n",
    "    for protected, f_folders in zip([\"no change\", \"protected\"], [normal, protected]):\n",
    "        for folder in f_folders:\n",
    "            print(f\"doing {os.path.basename(folder)}\")\n",
    "            files = [os.path.join(folder, x) for x in os.listdir(folder) if x.find(\".csv\") != -1]\n",
    "\n",
    "            for file in tqdm(files):\n",
    "                model_name, dataset, demonstration = os.path.basename(file).split(\"_\")\n",
    "                demonstration = demonstration[:-4]\n",
    "                if demonstration not in [\"zeroshot\", \"random\", \"similarity\", \"diversity\", \"within\", \"stratified\"]:\n",
    "                    continue\n",
    "\n",
    "                dummy_preds, dummy_labels, demographics_filtered, dataset_overall_demographics, labels_dict = open_and_clean_file(file)\n",
    "\n",
    "                shots = 10 if demonstration != \"zeroshot\" else 0\n",
    "\n",
    "                scores = []\n",
    "                f1 = np.mean(f1_score(dummy_preds, dummy_labels, average=None, labels=list(labels_dict.values()))[:-1])\n",
    "                for dem in dataset_overall_demographics:\n",
    "                    index = [i for i, item in enumerate(demographics_filtered) if dem in item]\n",
    "                    preds = dummy_preds[index]\n",
    "                    labels = dummy_labels[index]\n",
    "                    recall = recall_score(labels, preds, labels=list(labels_dict.values()), average=None)\n",
    "\n",
    "                    if dataset == \"aae\" or dataset == \"hatexplain-race\":\n",
    "                        recall = recall[0]\n",
    "                        if np.isnan(recall):\n",
    "                            recall = 0  \n",
    "                    else:\n",
    "                        recall = np.min(recall[:-1])\n",
    "                        if np.isnan(recall):\n",
    "                            recall = 0  \n",
    "\n",
    "                    scores.append(recall)\n",
    "                gap = np.max(scores) - np.min(scores)\n",
    "                csvwriter.writerow([model_name, dataset, shots, protected, demonstration, f1, 1-gap])"
   ]
  },
  {
   "cell_type": "markdown",
   "metadata": {
    "jp-MarkdownHeadingCollapsed": true,
    "tags": []
   },
   "source": [
    "# Running Specific models"
   ]
  },
  {
   "cell_type": "code",
   "execution_count": 115,
   "metadata": {
    "tags": []
   },
   "outputs": [],
   "source": [
    "def get_stats(file):\n",
    "    dummy_preds, dummy_labels, demographics_filtered, dataset_overall_demographics, labels_dict = open_and_clean_file(file)\n",
    "\n",
    "    model_name, dataset, demonstration = os.path.basename(file).split(\"_\")\n",
    "    demonstration = demonstration[:-4]\n",
    "\n",
    "    shots = 10 if demonstration != \"zeroshot\" else 0\n",
    "\n",
    "    demographic_samples = []\n",
    "    for i in range(100):\n",
    "        sample_index = np.random.choice(len(dummy_preds), size=len(dummy_preds), replace=True)\n",
    "        sample_demographics = np.array(demographics_filtered)[sample_index]\n",
    "        sample_preds = dummy_preds[sample_index]\n",
    "        sample_labels = dummy_labels[sample_index]\n",
    "        scores = []\n",
    "        for dem in dataset_overall_demographics:\n",
    "            index = [i for i, item in enumerate(sample_demographics) if dem in item]\n",
    "            preds = sample_preds[index]\n",
    "            labels = sample_labels[index]\n",
    "            recall = recall_score(labels, preds, labels=list(labels_dict.values()), average=None)\n",
    "            if dataset == \"aae\" or dataset == \"hatexplain-race\":\n",
    "                recall = recall[0]\n",
    "                if np.isnan(recall):\n",
    "                    recall = 0  \n",
    "            else:\n",
    "\n",
    "                recall = np.min(recall[:-1])\n",
    "\n",
    "                if np.isnan(recall):\n",
    "                    recall = 0  \n",
    "\n",
    "            scores.append(recall)\n",
    "\n",
    "        demographic_samples.append(scores)\n",
    "    all_recalls = np.array(demographic_samples)\n",
    "    try:\n",
    "        if dataset == \"aae\" or dataset == \"hatexplain-race\":\n",
    "            kl = kruskal(all_recalls[:, 0], all_recalls[:, 1])\n",
    "        else:\n",
    "            kl = kruskal(all_recalls[:, 0], all_recalls[:, 1], all_recalls[:, 2], all_recalls[:, 3], all_recalls[:, 4])\n",
    "        statistic = kl.statistic\n",
    "        pvalue = kl.pvalue\n",
    "        if pvalue < .05:\n",
    "            result = \"unfair\"\n",
    "        else:\n",
    "            result = \"fair\"\n",
    "    except ValueError:\n",
    "        statistic = 0 \n",
    "        pvalue = 1.0\n",
    "        result = \"fair\"\n",
    "    return statistic, pvalue, result"
   ]
  },
  {
   "cell_type": "code",
   "execution_count": 116,
   "metadata": {
    "tags": []
   },
   "outputs": [
    {
     "name": "stdout",
     "output_type": "stream",
     "text": [
      "F1: 0.7105823350488609\n",
      "aa: [0.673 0.673 0.   ]\n",
      "wh: [0.668  0.7895 0.    ]\n",
      "stats: 14.979483745544902\n",
      "pvalue: 0.00010868643186861213\n",
      "unfair\n"
     ]
    }
   ],
   "source": [
    "file = \"/home/ksasse/code/fairness/output/used_results/10shot_gpt_3/gpt3_aae_similarity.csv\"\n",
    "\n",
    "dummy_preds, dummy_labels, demographics_filtered, dataset_overall_demographics, labels_dict = open_and_clean_file(file)\n",
    "print(f\"F1: {np.mean(f1_score(dummy_preds, dummy_labels, average=None, labels=list(labels_dict.values()))[:-1])}\")\n",
    "for dem in dataset_overall_demographics:\n",
    "    index = [i for i, item in enumerate(demographics_filtered) if dem in item]\n",
    "    preds = dummy_preds[index]\n",
    "    labels = dummy_labels[index]\n",
    "    recall = recall_score(labels, preds, labels=list(labels_dict.values()), average=None)\n",
    "    print(f\"{dem}: {recall}\")\n",
    "\n",
    "stats, pvalue, result = get_stats(file)\n",
    "print(f\"stats: {stats}\\npvalue: {pvalue}\\n{result}\")"
   ]
  },
  {
   "cell_type": "markdown",
   "metadata": {
    "tags": []
   },
   "source": [
    "# Checking Results"
   ]
  },
  {
   "cell_type": "code",
   "execution_count": 8,
   "metadata": {
    "tags": []
   },
   "outputs": [],
   "source": [
    "results = pd.read_csv(\"protected_results.csv\", header=None, \n",
    "                      names=['model', 'data', 'shots', \"protected\",'selection method', 'f1', '1-GAP'])\n",
    "results['model'] = results.model.apply(lambda model: \"ul2\" if model == \"offline-ul2\" else model)"
   ]
  },
  {
   "cell_type": "code",
   "execution_count": 9,
   "metadata": {
    "tags": []
   },
   "outputs": [],
   "source": [
    "def custom_sorting(col):\n",
    "    if col.name == 'model':\n",
    "        models = ['gpt3', 'chatgpt', 'ul2', \"flan-ul2\", 'llama-13b', 'llama-65b', 'alpaca-7b', 'alpaca-13b']\n",
    "        return col.apply(lambda d: models.index(d))\n",
    "    elif col.name == 'data':\n",
    "        data = ['hatexplain-race', 'bias', 'aae']\n",
    "        return col.apply(lambda d: data.index(d))\n",
    "    elif col.name == 'protected':\n",
    "        prot = ['no change', 'protected']\n",
    "        return col.apply(lambda d: prot.index(d))\n",
    "    else:\n",
    "        methods = ['zeroshot', 'random', 'similarity',\"diversity\",'within','stratified']\n",
    "        return col.apply(lambda d: methods.index(d))"
   ]
  },
  {
   "cell_type": "code",
   "execution_count": 10,
   "metadata": {
    "tags": []
   },
   "outputs": [],
   "source": [
    "results = results.sort_values([\"data\", \"model\", \"selection method\", \"protected\"], key=custom_sorting)"
   ]
  },
  {
   "cell_type": "code",
   "execution_count": 23,
   "metadata": {
    "tags": []
   },
   "outputs": [],
   "source": [
    "results.to_csv(\"protected_results_ordered.csv\", index=False)"
   ]
  },
  {
   "cell_type": "code",
   "execution_count": 11,
   "metadata": {
    "tags": []
   },
   "outputs": [],
   "source": [
    "normal = results[results.protected != 'protected']\n",
    "protected = results[results.protected == 'protected']\n",
    "\n",
    "f1_diff = protected.f1.values - normal.f1.values\n",
    "gap_diff = protected['1-GAP'].values - normal['1-GAP'].values\n",
    "\n",
    "difference = normal[['data', 'model', 'selection method']]\n",
    "difference['f1'] = f1_diff\n",
    "difference['1-GAP'] = gap_diff"
   ]
  },
  {
   "cell_type": "markdown",
   "metadata": {},
   "source": [
    "## Making the plot"
   ]
  },
  {
   "cell_type": "code",
   "execution_count": 12,
   "metadata": {
    "tags": []
   },
   "outputs": [],
   "source": [
    "base_df = difference[difference.data=='bias']\n",
    "sf = base_df[(base_df['selection method']=='zeroshot')|\n",
    "        (((base_df.model=='ul2')&(base_df['selection method']=='similarity'))|\n",
    "         ((base_df.model=='flan-ul2')&(base_df['selection method']=='diversity'))|\n",
    "         ((base_df.model=='llama-13b')&(base_df['selection method']=='similarity'))|\n",
    "         ((base_df.model=='llama-65b')&(base_df['selection method']=='diversity'))|\n",
    "         ((base_df.model=='alpaca-7b')&(base_df['selection method']=='similarity'))|\n",
    "         ((base_df.model=='alpaca-13b')&(base_df['selection method']=='diversity')))]\n",
    "bf = base_df[base_df['selection method'].isin(['zeroshot', 'similarity', 'diversity'])]"
   ]
  },
  {
   "cell_type": "code",
   "execution_count": 27,
   "metadata": {
    "tags": []
   },
   "outputs": [
    {
     "data": {
      "image/png": "[encoded data removed]",
      "text/plain": [
       "<Figure size 656.347x500 with 1 Axes>"
      ]
     },
     "metadata": {},
     "output_type": "display_data"
    }
   ],
   "source": [
    "import seaborn as sns\n",
    "import matplotlib.pyplot as plt\n",
    "sns.set_context(\"notebook\")\n",
    "\n",
    "f=sns.catplot(data=bf, x=\"model\", y=\"f1\", hue=\"selection method\", \n",
    "            kind=\"bar\",\n",
    "            hue_order=[ 'zeroshot', 'similarity', 'diversity'],\n",
    "           palette='colorblind')\n",
    "f.savefig(\"../results/figs/demographic_prompt_f1.pdf\")"
   ]
  },
  {
   "cell_type": "code",
   "execution_count": 28,
   "metadata": {
    "tags": []
   },
   "outputs": [
    {
     "data": {
      "image/png": "[encoded data removed]",
      "text/plain": [
       "<Figure size 656.347x500 with 1 Axes>"
      ]
     },
     "metadata": {},
     "output_type": "display_data"
    }
   ],
   "source": [
    "sns.set_context(\"notebook\")\n",
    "f=sns.catplot(data=bf, x=\"model\", y=\"1-GAP\", hue=\"selection method\", \n",
    "            kind=\"bar\",\n",
    "            hue_order=[ 'zeroshot', 'similarity', 'diversity'], palette='colorblind')\n",
    "f.savefig(\"../results/figs/demographic_prompt_gap.pdf\")"
   ]
  },
  {
   "cell_type": "code",
   "execution_count": 16,
   "metadata": {
    "tags": []
   },
   "outputs": [
    {
     "data": {
      "text/plain": [
       "<matplotlib.lines.Line2D at 0x7f731f9c1e20>"
      ]
     },
     "execution_count": 16,
     "metadata": {},
     "output_type": "execute_result"
    },
    {
     "data": {
      "image/png": "[encoded data removed]",
      "text/plain": [
       "<Figure size 642.472x500 with 1 Axes>"
      ]
     },
     "metadata": {},
     "output_type": "display_data"
    }
   ],
   "source": [
    "sns.relplot(data=bf, x=\"1-GAP\", y=\"f1\", style=\"selection method\", hue='model', \n",
    "            kind=\"scatter\",  s=150,\n",
    "           style_order=[ 'zeroshot', 'similarity', 'diversity'])\n",
    "# adding vertical line in data co-ordinates\n",
    "plt.axvline(0, c='black', ls='--')\n",
    "  \n",
    "# adding horizontal line in data co-ordinates\n",
    "plt.axhline(0, c='black', ls='--')"
   ]
  },
  {
   "cell_type": "markdown",
   "metadata": {},
   "source": [
    "# Getting Random Baselines"
   ]
  },
  {
   "cell_type": "markdown",
   "metadata": {},
   "source": [
    "### AAE"
   ]
  },
  {
   "cell_type": "code",
   "execution_count": 206,
   "metadata": {
    "tags": []
   },
   "outputs": [
    {
     "name": "stdout",
     "output_type": "stream",
     "text": [
      "random F1: 0.5001681499827405\n",
      "major  F1: 0.6666666666666666\n"
     ]
    }
   ],
   "source": [
    "file = \"/home/ksasse/code/fairness/output/used_results/10shot_gpt_3/gpt3_aae_similarity.csv\"\n",
    "\n",
    "dummy_preds, dummy_labels, demographics_filtered, dataset_overall_demographics, labels_dict = open_and_clean_file(file)\n",
    "rands = np.random.choice([0, 1], size=len(dummy_labels))\n",
    "f1s = []\n",
    "for _ in range(1000):\n",
    "    rands = np.random.choice([0, 1], size=len(dummy_labels))\n",
    "    f1s.append(f1_score(dummy_labels, rands))\n",
    "print(f\"random F1: {np.mean(f1s)}\")\n",
    "print(f\"major  F1: {np.mean(f1_score(dummy_labels, np.ones(len(dummy_labels))))}\")"
   ]
  },
  {
   "cell_type": "code",
   "execution_count": 213,
   "metadata": {
    "tags": []
   },
   "outputs": [
    {
     "data": {
      "text/plain": [
       "8000"
      ]
     },
     "execution_count": 213,
     "metadata": {},
     "output_type": "execute_result"
    }
   ],
   "source": [
    "file = \"/home/ksasse/code/fairness/output/used_results/10shot_gpt_3/gpt3_aae_similarity.csv\"\n",
    "\n",
    "dummy_preds, dummy_labels, demographics_filtered, dataset_overall_demographics, labels_dict = open_and_clean_file(file)\n",
    "len(dummy_labels)"
   ]
  },
  {
   "cell_type": "markdown",
   "metadata": {
    "tags": []
   },
   "source": [
    "### hatexplain-race"
   ]
  },
  {
   "cell_type": "code",
   "execution_count": 207,
   "metadata": {
    "tags": []
   },
   "outputs": [
    {
     "data": {
      "text/plain": [
       "(array([0, 1]), array([137, 537]))"
      ]
     },
     "execution_count": 207,
     "metadata": {},
     "output_type": "execute_result"
    }
   ],
   "source": [
    "file = \"/home/ksasse/code/fairness/output/used_results/10shot_gpt_3/gpt3_hatexplain-race_similarity.csv\"\n",
    "\n",
    "dummy_preds, dummy_labels, demographics_filtered, dataset_overall_demographics, labels_dict = open_and_clean_file(file)\n",
    "np.unique(dummy_labels, return_counts=True)"
   ]
  },
  {
   "cell_type": "code",
   "execution_count": 209,
   "metadata": {
    "tags": []
   },
   "outputs": [
    {
     "name": "stdout",
     "output_type": "stream",
     "text": [
      "F1: 0.6129650516749162\n",
      "major  F1: 0.8868703550784476\n"
     ]
    }
   ],
   "source": [
    "f1s = []\n",
    "for _ in range(1000):\n",
    "    rands = np.random.choice([0, 1], size=len(dummy_labels))\n",
    "    f1s.append(f1_score(dummy_labels, rands))\n",
    "print(f\"F1: {np.mean(f1s)}\")\n",
    "print(f\"major  F1: {np.mean(f1_score(dummy_labels, np.ones(len(dummy_labels))))}\")"
   ]
  },
  {
   "cell_type": "markdown",
   "metadata": {},
   "source": [
    "### Bias"
   ]
  },
  {
   "cell_type": "code",
   "execution_count": 214,
   "metadata": {
    "tags": []
   },
   "outputs": [
    {
     "data": {
      "text/plain": [
       "8000"
      ]
     },
     "execution_count": 214,
     "metadata": {},
     "output_type": "execute_result"
    }
   ],
   "source": [
    "file = \"/home/ksasse/code/fairness/output/used_results/10shot_gpt_3/gpt3_bias_similarity.csv\"\n",
    "\n",
    "dummy_preds, dummy_labels, demographics_filtered, dataset_overall_demographics, labels_dict = open_and_clean_file(file)\n",
    "np.unique(dummy_labels, return_counts=True)\n",
    "len(dummy_labels)"
   ]
  },
  {
   "cell_type": "code",
   "execution_count": 212,
   "metadata": {
    "tags": []
   },
   "outputs": [
    {
     "name": "stdout",
     "output_type": "stream",
     "text": [
      "F1: 0.12483869849703508\n",
      "major  F1: 0.027777777777777776\n"
     ]
    }
   ],
   "source": [
    "f1s = []\n",
    "for _ in range(1000):\n",
    "    rands = np.random.choice([0, 1, 2, 3, 4, 5, 6, 7], size=len(dummy_labels))\n",
    "    f1s.append(f1_score(dummy_labels, rands, average='macro'))\n",
    "print(f\"F1: {np.mean(f1s)}\")\n",
    "print(f\"major  F1: {np.mean(f1_score(dummy_labels, np.ones(len(dummy_labels)), average='macro'))}\")"
   ]
  },
  {
   "cell_type": "code",
   "execution_count": null,
   "metadata": {},
   "outputs": [],
   "source": []
  }
 ],
 "metadata": {
  "kernelspec": {
   "display_name": "Python 3 (ipykernel)",
   "language": "python",
   "name": "python3"
  },
  "language_info": {
   "codemirror_mode": {
    "name": "ipython",
    "version": 3
   },
   "file_extension": ".py",
   "mimetype": "text/x-python",
   "name": "python",
   "nbconvert_exporter": "python",
   "pygments_lexer": "ipython3",
   "version": "3.9.15"
  }
 },
 "nbformat": 4,
 "nbformat_minor": 4
}
