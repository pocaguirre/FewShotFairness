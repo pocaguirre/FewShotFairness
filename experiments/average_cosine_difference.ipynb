{
 "cells": [
  {
   "cell_type": "code",
   "execution_count": 1,
   "metadata": {},
   "outputs": [],
   "source": [
    "import sys \n",
    "sys.path.append(\"..\")"
   ]
  },
  {
   "cell_type": "code",
   "execution_count": 2,
   "metadata": {},
   "outputs": [],
   "source": [
    "from src.datasets import HateXplainRace"
   ]
  },
  {
   "cell_type": "code",
   "execution_count": 3,
   "metadata": {},
   "outputs": [],
   "source": [
    "import faiss"
   ]
  },
  {
   "cell_type": "code",
   "execution_count": 4,
   "metadata": {},
   "outputs": [
    {
     "name": "stderr",
     "output_type": "stream",
     "text": [
      "/home/ksasse/miniconda3/envs/fairness/lib/python3.9/site-packages/tqdm/auto.py:21: TqdmWarning: IProgress not found. Please update jupyter and ipywidgets. See https://ipywidgets.readthedocs.io/en/stable/user_install.html\n",
      "  from .autonotebook import tqdm as notebook_tqdm\n"
     ]
    }
   ],
   "source": [
    "from sentence_transformers import SentenceTransformer"
   ]
  },
  {
   "cell_type": "code",
   "execution_count": 5,
   "metadata": {},
   "outputs": [],
   "source": [
    "def filter_demographics(\n",
    "        demographics, overall_demographics\n",
    "    ) -> str:\n",
    "\n",
    "        set_of_demographics = set(demographics)\n",
    "\n",
    "        intersection = set_of_demographics.intersection(overall_demographics)\n",
    "\n",
    "        if len(intersection) == 0:\n",
    "            return \"\"\n",
    "\n",
    "        else:\n",
    "            return list(intersection)[0]\n"
   ]
  },
  {
   "cell_type": "code",
   "execution_count": 6,
   "metadata": {},
   "outputs": [],
   "source": [
    "embedding = SentenceTransformer('all-mpnet-base-v2')"
   ]
  },
  {
   "cell_type": "code",
   "execution_count": 7,
   "metadata": {},
   "outputs": [],
   "source": [
    "hate = HateXplainRace(\"../data/HateXplain/\")"
   ]
  },
  {
   "cell_type": "code",
   "execution_count": 8,
   "metadata": {},
   "outputs": [],
   "source": [
    "train_df, test_df, overall_demographics = hate.create_prompts()"
   ]
  },
  {
   "cell_type": "code",
   "execution_count": 9,
   "metadata": {},
   "outputs": [],
   "source": [
    "train_df[\"filtered_demographics\"] = train_df[\"demographics\"].apply(\n",
    "    lambda x: filter_demographics(x, set(hate.demographics))\n",
    ")\n",
    "\n",
    "test_df[\"filtered_demographics\"] = test_df[\"demographics\"].apply(\n",
    "    lambda x: filter_demographics(x, set(hate.demographics))\n",
    ")\n",
    "\n",
    "filtered_train_df = train_df[train_df.filtered_demographics != \"\"].copy()\n",
    "\n",
    "test_df = test_df[test_df.filtered_demographics != \"\"]"
   ]
  },
  {
   "cell_type": "code",
   "execution_count": 10,
   "metadata": {},
   "outputs": [
    {
     "name": "stderr",
     "output_type": "stream",
     "text": [
      "Batches: 100%|██████████| 221/221 [00:06<00:00, 36.52it/s]\n",
      "Batches: 100%|██████████| 22/22 [00:00<00:00, 41.13it/s]\n"
     ]
    }
   ],
   "source": [
    "train_vectors = embedding.encode(train_df['prompts'].tolist(), batch_size = 32, show_progress_bar=True)\n",
    "test_vectors = embedding.encode(test_df['prompts'].tolist(), batch_size = 32, show_progress_bar=True)"
   ]
  },
  {
   "cell_type": "code",
   "execution_count": 11,
   "metadata": {},
   "outputs": [],
   "source": [
    "faiss.normalize_L2(train_vectors)\n",
    "\n",
    "faiss.normalize_L2(test_vectors)"
   ]
  },
  {
   "cell_type": "code",
   "execution_count": 12,
   "metadata": {},
   "outputs": [],
   "source": [
    "vector_dim = train_vectors.shape[1]\n",
    "\n",
    "index = faiss.IndexFlatIP(vector_dim)\n",
    "\n",
    "index.add(train_vectors)\n",
    "\n",
    "distances, neighbors = index.search(test_vectors, 5)"
   ]
  },
  {
   "cell_type": "code",
   "execution_count": 13,
   "metadata": {},
   "outputs": [],
   "source": [
    "pre_computed_inclusions = dict()\n",
    "\n",
    "for demographic in set(hate.demographics):\n",
    "    pre_computed_inclusions[demographic] = filtered_train_df[filtered_train_df.filtered_demographics == demographic]"
   ]
  },
  {
   "cell_type": "code",
   "execution_count": 14,
   "metadata": {},
   "outputs": [],
   "source": [
    "within_samples = []\n",
    "for row in test_df.itertuples():\n",
    "    filtered_df = pre_computed_inclusions[row.filtered_demographics]\n",
    "\n",
    "    within_sample = filtered_df[\"prompts\"].sample(n=5).index.tolist()\n",
    "\n",
    "    within_samples.append(within_sample)"
   ]
  },
  {
   "cell_type": "code",
   "execution_count": 15,
   "metadata": {},
   "outputs": [],
   "source": [
    "import numpy as np"
   ]
  },
  {
   "cell_type": "code",
   "execution_count": 16,
   "metadata": {},
   "outputs": [],
   "source": [
    "average_cosine_differences_between_groups = []\n",
    "for i in range(len(within_samples)):\n",
    "\n",
    "    within_vectors = train_vectors[within_samples[i]]\n",
    "    sim_vectors = train_vectors[neighbors[i]]\n",
    "\n",
    "    average_cosine_differences_between_groups.append((within_vectors @ sim_vectors.T).mean())"
   ]
  },
  {
   "cell_type": "code",
   "execution_count": 17,
   "metadata": {},
   "outputs": [
    {
     "data": {
      "text/plain": [
       "0.7786888"
      ]
     },
     "execution_count": 17,
     "metadata": {},
     "output_type": "execute_result"
    }
   ],
   "source": [
    "np.array(average_cosine_differences_between_groups).mean()"
   ]
  },
  {
   "cell_type": "code",
   "execution_count": null,
   "metadata": {},
   "outputs": [],
   "source": []
  }
 ],
 "metadata": {
  "kernelspec": {
   "display_name": "fairness",
   "language": "python",
   "name": "python3"
  },
  "language_info": {
   "codemirror_mode": {
    "name": "ipython",
    "version": 3
   },
   "file_extension": ".py",
   "mimetype": "text/x-python",
   "name": "python",
   "nbconvert_exporter": "python",
   "pygments_lexer": "ipython3",
   "version": "3.9.16"
  },
  "orig_nbformat": 4
 },
 "nbformat": 4,
 "nbformat_minor": 2
}
