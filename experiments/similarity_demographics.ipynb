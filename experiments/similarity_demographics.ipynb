{
 "cells": [
  {
   "cell_type": "code",
   "execution_count": 8,
   "metadata": {},
   "outputs": [],
   "source": [
    "import sys\n",
    "sys.path.append(\"..\")"
   ]
  },
  {
   "cell_type": "code",
   "execution_count": 9,
   "metadata": {},
   "outputs": [],
   "source": [
    "from src.datasets import HateXplainRace"
   ]
  },
  {
   "cell_type": "code",
   "execution_count": 10,
   "metadata": {},
   "outputs": [],
   "source": [
    "hate = HateXplainRace('../data/HateXplain')"
   ]
  },
  {
   "cell_type": "code",
   "execution_count": 11,
   "metadata": {},
   "outputs": [
    {
     "name": "stderr",
     "output_type": "stream",
     "text": [
      "Batches: 100%|██████████| 168/168 [00:04<00:00, 39.67it/s]\n",
      "Batches: 100%|██████████| 22/22 [00:00<00:00, 41.93it/s]\n"
     ]
    }
   ],
   "source": [
    "import faiss\n",
    "from sentence_transformers import SentenceTransformer\n",
    "\n",
    "embedding = SentenceTransformer('all-mpnet-base-v2')\n",
    "hate = HateXplainRace(\"../data/HateXplain/\")\n",
    "train_df, test_df, overall_demographics = hate.create_prompts()\n",
    "\n",
    "train_vectors = embedding.encode(train_df['prompts'].tolist(), batch_size = 32, show_progress_bar=True)\n",
    "test_vectors = embedding.encode(test_df['prompts'].tolist(), batch_size = 32, show_progress_bar=True)\n",
    "faiss.normalize_L2(train_vectors)\n",
    "\n",
    "faiss.normalize_L2(test_vectors)\n",
    "vector_dim = train_vectors.shape[1]\n",
    "\n",
    "index = faiss.IndexFlatIP(vector_dim)\n",
    "\n",
    "index.add(train_vectors)\n",
    "\n",
    "distances, neighbors = index.search(test_vectors, 5)"
   ]
  },
  {
   "cell_type": "code",
   "execution_count": 12,
   "metadata": {},
   "outputs": [],
   "source": [
    "differences_in_demographic = []\n",
    "\n",
    "for i in range(len(neighbors)):\n",
    "    demographics_train = train_df.iloc[neighbors[i]]['filtered_demographics']\n",
    "    demographics_test = test_df.iloc[i]['filtered_demographics']\n",
    "    differences_in_demographic.append(len(demographics_train[demographics_train != demographics_test]))"
   ]
  },
  {
   "cell_type": "code",
   "execution_count": 13,
   "metadata": {},
   "outputs": [],
   "source": [
    "import numpy as np"
   ]
  },
  {
   "cell_type": "code",
   "execution_count": 14,
   "metadata": {},
   "outputs": [
    {
     "data": {
      "text/plain": [
       "1.353891336270191"
      ]
     },
     "execution_count": 14,
     "metadata": {},
     "output_type": "execute_result"
    }
   ],
   "source": [
    "np.array(differences_in_demographic).mean()"
   ]
  },
  {
   "cell_type": "code",
   "execution_count": null,
   "metadata": {},
   "outputs": [],
   "source": []
  }
 ],
 "metadata": {
  "kernelspec": {
   "display_name": "fairness",
   "language": "python",
   "name": "python3"
  },
  "language_info": {
   "codemirror_mode": {
    "name": "ipython",
    "version": 3
   },
   "file_extension": ".py",
   "mimetype": "text/x-python",
   "name": "python",
   "nbconvert_exporter": "python",
   "pygments_lexer": "ipython3",
   "version": "3.9.16"
  },
  "orig_nbformat": 4
 },
 "nbformat": 4,
 "nbformat_minor": 2
}
