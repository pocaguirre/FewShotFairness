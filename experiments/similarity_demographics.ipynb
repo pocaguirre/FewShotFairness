{
 "cells": [
  {
   "cell_type": "code",
   "execution_count": 1,
   "metadata": {},
   "outputs": [],
   "source": [
    "import sys\n",
    "sys.path.append(\"..\")"
   ]
  },
  {
   "cell_type": "code",
   "execution_count": 2,
   "metadata": {},
   "outputs": [],
   "source": [
    "from src.datasets import HateXplainRace"
   ]
  },
  {
   "cell_type": "code",
   "execution_count": 3,
   "metadata": {},
   "outputs": [],
   "source": [
    "hate = HateXplainRace('../data/HateXplain')"
   ]
  },
  {
   "cell_type": "code",
   "execution_count": 4,
   "metadata": {},
   "outputs": [
    {
     "name": "stderr",
     "output_type": "stream",
     "text": [
      "/home/ksasse/miniconda3/envs/fairness/lib/python3.9/site-packages/tqdm/auto.py:21: TqdmWarning: IProgress not found. Please update jupyter and ipywidgets. See https://ipywidgets.readthedocs.io/en/stable/user_install.html\n",
      "  from .autonotebook import tqdm as notebook_tqdm\n",
      "Batches: 100%|██████████| 221/221 [00:06<00:00, 36.80it/s]\n",
      "Batches: 100%|██████████| 22/22 [00:00<00:00, 41.53it/s]\n"
     ]
    }
   ],
   "source": [
    "import faiss\n",
    "from sentence_transformers import SentenceTransformer\n",
    "def filter_demographics(\n",
    "        demographics, overall_demographics\n",
    "    ) -> str:\n",
    "\n",
    "        set_of_demographics = set(demographics)\n",
    "\n",
    "        intersection = set_of_demographics.intersection(overall_demographics)\n",
    "\n",
    "        if len(intersection) == 0:\n",
    "            return \"\"\n",
    "\n",
    "        else:\n",
    "            return list(intersection)[0]\n",
    "\n",
    "embedding = SentenceTransformer('all-mpnet-base-v2')\n",
    "hate = HateXplainRace(\"../data/HateXplain/\")\n",
    "train_df, test_df, overall_demographics = hate.create_prompts()\n",
    "train_df[\"filtered_demographics\"] = train_df[\"demographics\"].apply(\n",
    "    lambda x: filter_demographics(x, set(hate.demographics))\n",
    ")\n",
    "\n",
    "test_df[\"filtered_demographics\"] = test_df[\"demographics\"].apply(\n",
    "    lambda x: filter_demographics(x, set(hate.demographics))\n",
    ")\n",
    "\n",
    "filtered_train_df = train_df[train_df.filtered_demographics != \"\"].copy()\n",
    "\n",
    "test_df = test_df[test_df.filtered_demographics != \"\"]\n",
    "train_vectors = embedding.encode(train_df['prompts'].tolist(), batch_size = 32, show_progress_bar=True)\n",
    "test_vectors = embedding.encode(test_df['prompts'].tolist(), batch_size = 32, show_progress_bar=True)\n",
    "faiss.normalize_L2(train_vectors)\n",
    "\n",
    "faiss.normalize_L2(test_vectors)\n",
    "vector_dim = train_vectors.shape[1]\n",
    "\n",
    "index = faiss.IndexFlatIP(vector_dim)\n",
    "\n",
    "index.add(train_vectors)\n",
    "\n",
    "distances, neighbors = index.search(test_vectors, 10)"
   ]
  },
  {
   "cell_type": "code",
   "execution_count": 5,
   "metadata": {},
   "outputs": [],
   "source": [
    "test_df_index = test_df.reset_index()"
   ]
  },
  {
   "cell_type": "code",
   "execution_count": 6,
   "metadata": {},
   "outputs": [],
   "source": [
    "differences_in_demographic = []\n",
    "\n",
    "for i in range(len(neighbors)):\n",
    "    demographics_train = train_df.iloc[neighbors[i]]['filtered_demographics']\n",
    "    demographics_test = test_df_index.iloc[i]['filtered_demographics']\n",
    "    differences_in_demographic.append(len(demographics_train[demographics_train != demographics_test]))\n",
    "    \n"
   ]
  },
  {
   "cell_type": "code",
   "execution_count": 7,
   "metadata": {},
   "outputs": [],
   "source": [
    "import numpy as np"
   ]
  },
  {
   "cell_type": "code",
   "execution_count": 8,
   "metadata": {},
   "outputs": [
    {
     "data": {
      "text/plain": [
       "3.303964757709251"
      ]
     },
     "execution_count": 8,
     "metadata": {},
     "output_type": "execute_result"
    }
   ],
   "source": [
    "np.array(differences_in_demographic).mean()"
   ]
  },
  {
   "cell_type": "code",
   "execution_count": null,
   "metadata": {},
   "outputs": [],
   "source": []
  }
 ],
 "metadata": {
  "kernelspec": {
   "display_name": "fairness",
   "language": "python",
   "name": "python3"
  },
  "language_info": {
   "codemirror_mode": {
    "name": "ipython",
    "version": 3
   },
   "file_extension": ".py",
   "mimetype": "text/x-python",
   "name": "python",
   "nbconvert_exporter": "python",
   "pygments_lexer": "ipython3",
   "version": "3.9.16"
  },
  "orig_nbformat": 4
 },
 "nbformat": 4,
 "nbformat_minor": 2
}
