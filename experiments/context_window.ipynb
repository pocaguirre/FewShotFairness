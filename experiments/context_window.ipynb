{
 "cells": [
  {
   "cell_type": "code",
   "execution_count": 22,
   "metadata": {},
   "outputs": [],
   "source": [
    "#gpt3.5-turbo 4,096 tokens\n",
    "#text-davinci-003 2049 tokens\n",
    "#flan-ul2 2048 tokens"
   ]
  },
  {
   "cell_type": "code",
   "execution_count": null,
   "metadata": {},
   "outputs": [],
   "source": [
    "import sys\n",
    "sys.path.append(\"..\")"
   ]
  },
  {
   "cell_type": "code",
   "execution_count": 23,
   "metadata": {},
   "outputs": [],
   "source": [
    "from tqdm import tqdm\n",
    "\n",
    "import tiktoken\n",
    "\n",
    "from src.datasets.biasinbios import BiasInBios\n",
    "from src.datasets.hateexplainrace import HateXplainRace\n",
    "from src.datasets.twitteraae import TwitterAAE\n"
   ]
  },
  {
   "cell_type": "code",
   "execution_count": 7,
   "metadata": {},
   "outputs": [],
   "source": [
    "bias = BiasInBios(\"../data/biasbios\")\n",
    "hategender = HateXplainRace(\"../data/HateXplain\")\n",
    "aae = TwitterAAE(\"../data/moji/twitteraae_sentiment_race\")\n",
    "\n",
    "\n",
    "bias_train_df, bias_test_df, bias_demo = bias.create_prompts()\n",
    "hate_train_df, hate_test_df, hate_demo = hategender.create_prompts()\n",
    "aae_train_df, aae_test_df, aae_demo = aae.create_prompts()"
   ]
  },
  {
   "cell_type": "code",
   "execution_count": 8,
   "metadata": {},
   "outputs": [],
   "source": [
    "dataset_names = [\"bias\", \"hate\", \"aae\"]"
   ]
  },
  {
   "cell_type": "code",
   "execution_count": 9,
   "metadata": {},
   "outputs": [],
   "source": [
    "datasets = [(bias_train_df, bias_test_df), (hate_train_df, hate_test_df), (aae_train_df, aae_test_df)]"
   ]
  },
  {
   "cell_type": "code",
   "execution_count": 10,
   "metadata": {},
   "outputs": [],
   "source": [
    "models = [\"text-davinci-003\", \"gpt-3.5-turbo\"]"
   ]
  },
  {
   "attachments": {},
   "cell_type": "markdown",
   "metadata": {},
   "source": [
    "## Average per Prompt"
   ]
  },
  {
   "cell_type": "code",
   "execution_count": 11,
   "metadata": {},
   "outputs": [],
   "source": [
    "def num_tokens_from_messages(messages, model=\"gpt-3.5-turbo-0301\"):\n",
    "    \"\"\"Returns the number of tokens used by a list of messages.\"\"\"\n",
    "    try:\n",
    "        encoding = tiktoken.encoding_for_model(model)\n",
    "    except KeyError:\n",
    "        print(\"Warning: model not found. Using cl100k_base encoding.\")\n",
    "        encoding = tiktoken.get_encoding(\"cl100k_base\")\n",
    "    if model == \"gpt-3.5-turbo\":\n",
    "        print(\"Warning: gpt-3.5-turbo may change over time. Returning num tokens assuming gpt-3.5-turbo-0301.\")\n",
    "        return num_tokens_from_messages(messages, model=\"gpt-3.5-turbo-0301\")\n",
    "    elif model == \"gpt-4\":\n",
    "        print(\"Warning: gpt-4 may change over time. Returning num tokens assuming gpt-4-0314.\")\n",
    "        return num_tokens_from_messages(messages, model=\"gpt-4-0314\")\n",
    "    elif model == \"gpt-3.5-turbo-0301\":\n",
    "        tokens_per_message = 4  # every message follows <|start|>{role/name}\\n{content}<|end|>\\n\n",
    "        tokens_per_name = -1  # if there's a name, the role is omitted\n",
    "    elif model == \"gpt-4-0314\":\n",
    "        tokens_per_message = 3\n",
    "        tokens_per_name = 1\n",
    "    else:\n",
    "        tokens_per_message = 0\n",
    "        tokens_per_name = 0\n",
    "    \n",
    "    num_tokens_per_message = []\n",
    "    \n",
    "    for message in tqdm(messages):\n",
    "        num_tokens = 0\n",
    "        num_tokens += tokens_per_message\n",
    "        for key, value in message.items():\n",
    "            num_tokens += len(encoding.encode(value))\n",
    "            if key == \"name\":\n",
    "                num_tokens += tokens_per_name\n",
    "        if tokens_per_message != 0 and tokens_per_name != 0:\n",
    "            num_tokens += 3  # every reply is primed with <|start|>assistant<|message|>\n",
    "        \n",
    "        num_tokens_per_message.append(num_tokens)\n",
    "\n",
    "    return num_tokens_per_message"
   ]
  },
  {
   "cell_type": "code",
   "execution_count": null,
   "metadata": {},
   "outputs": [],
   "source": [
    "for dataset_name, dataset in zip(dataset_names, datasets):\n",
    "\n",
    "    for model in models:\n",
    "\n",
    "        messages = None\n",
    "\n",
    "        prompts = dataset[0]['prompts'].tolist() +  dataset[1]['prompts'].tolist()\n",
    "\n",
    "        if model == \"gpt-3.5-turbo\":\n",
    "            messages = [{\"role\": \"user\", \"content\": prompt} for prompt in prompts]\n",
    "        elif model == \"text-davinci-003\":\n",
    "            messages = [{\"content\": prompt} for prompt in prompts]\n",
    "        \n",
    "        num_tokens_per_message = num_tokens_from_messages(messages, model)\n",
    "\n",
    "        max_tokens = max(num_tokens_per_message)\n",
    "\n",
    "        avg_tokens = sum(num_tokens_per_message)/len(num_tokens_per_message)\n",
    "\n",
    "        print(f\"Model: {model}, Dataset: {dataset_name}\")\n",
    "        print(f\"Max Tokens: {max_tokens}, Average: {avg_tokens}\")\n"
   ]
  },
  {
   "cell_type": "code",
   "execution_count": null,
   "metadata": {},
   "outputs": [],
   "source": [
    "from transformers import AutoTokenizer"
   ]
  },
  {
   "cell_type": "code",
   "execution_count": 18,
   "metadata": {},
   "outputs": [
    {
     "name": "stderr",
     "output_type": "stream",
     "text": [
      "100%|██████████| 263710/263710 [01:05<00:00, 4003.52it/s]\n"
     ]
    }
   ],
   "source": [
    "tok = AutoTokenizer.from_pretrained(\"google/flan-ul2\", use_fast=True)\n",
    "\n",
    "for dataset_name, dataset in zip(dataset_names, datasets):\n",
    "\n",
    "    prompts = dataset[0]['prompts'].tolist() +  dataset[1]['prompts'].tolist()\n",
    "\n",
    "    num_tokens_per_message = []\n",
    "\n",
    "    for prompt in tqdm(prompts):\n",
    "        num_tokens_per_message.append(len(tok.encode(prompt)))\n",
    "\n",
    "    max_tokens = max(num_tokens_per_message)\n",
    "\n",
    "    avg_tokens = sum(num_tokens_per_message)/len(num_tokens_per_message)\n",
    "\n",
    "    print(f\"Model: flan, Dataset: {dataset_name}\")\n",
    "    print(f\"Max Tokens: {max_tokens}, Average: {avg_tokens}\")"
   ]
  },
  {
   "cell_type": "code",
   "execution_count": null,
   "metadata": {},
   "outputs": [],
   "source": []
  }
 ],
 "metadata": {
  "kernelspec": {
   "display_name": "fairness",
   "language": "python",
   "name": "python3"
  },
  "language_info": {
   "codemirror_mode": {
    "name": "ipython",
    "version": 3
   },
   "file_extension": ".py",
   "mimetype": "text/x-python",
   "name": "python",
   "nbconvert_exporter": "python",
   "pygments_lexer": "ipython3",
   "version": "3.11.2"
  },
  "orig_nbformat": 4
 },
 "nbformat": 4,
 "nbformat_minor": 2
}
