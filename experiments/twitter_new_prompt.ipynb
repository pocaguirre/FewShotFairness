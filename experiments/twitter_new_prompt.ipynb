{
 "cells": [
  {
   "cell_type": "code",
   "execution_count": 1,
   "metadata": {},
   "outputs": [],
   "source": [
    "import sys\n",
    "sys.path.append(\"..\")\n",
    "\n",
    "from src.datasets import TwitterAAE\n",
    "from src.demonstrations import RandomSampler"
   ]
  },
  {
   "cell_type": "code",
   "execution_count": 2,
   "metadata": {},
   "outputs": [],
   "source": [
    "from src.models import GPT\n",
    "from src.models import ChatGPT\n",
    "from src.models import HF"
   ]
  },
  {
   "cell_type": "code",
   "execution_count": 3,
   "metadata": {},
   "outputs": [],
   "source": [
    "from src.utils import metrics"
   ]
  },
  {
   "cell_type": "code",
   "execution_count": 4,
   "metadata": {},
   "outputs": [],
   "source": [
    "def build_model(model_name: str, model_params):\n",
    "    \"\"\"Builds model class from model name and params provided\n",
    "\n",
    "    :param model_name: name of model being used\n",
    "    :type model_name: str\n",
    "    :param model_params: list of parameters provided for each model\n",
    "    :type model_params: Dict[str, Any]\n",
    "    :raises ValueError: model does not exist\n",
    "    :return: fully formed model\n",
    "    :rtype: APIModel\n",
    "    \"\"\"    \n",
    "    models = {\n",
    "        \"gpt3\": GPT(\"text-davinci-003\", **model_params),\n",
    "        \"chatgpt\": ChatGPT(\"gpt-3.5-turbo\", **model_params),\n",
    "        \"ul2\": HF(\"https://api-inference.huggingface.co/models/google/flan-ul2\", **model_params),\n",
    "    }\n",
    "\n",
    "    model = None\n",
    "\n",
    "    try:\n",
    "        model = models[model_name]\n",
    "    except KeyError:\n",
    "        raise ValueError(f\"{model_name} does not exist!\")\n",
    "\n",
    "    return model"
   ]
  },
  {
   "cell_type": "code",
   "execution_count": 5,
   "metadata": {},
   "outputs": [],
   "source": [
    "import random"
   ]
  },
  {
   "cell_type": "code",
   "execution_count": 6,
   "metadata": {},
   "outputs": [],
   "source": [
    "aae = TwitterAAE('../data/moji/twitteraae_sentiment_race')"
   ]
  },
  {
   "cell_type": "code",
   "execution_count": 7,
   "metadata": {},
   "outputs": [],
   "source": [
    "train_df, test_df, demographics = aae.create_prompts()"
   ]
  },
  {
   "cell_type": "code",
   "execution_count": 8,
   "metadata": {},
   "outputs": [],
   "source": [
    "fiveshotSampler = RandomSampler(shots=5)"
   ]
  },
  {
   "cell_type": "code",
   "execution_count": 9,
   "metadata": {},
   "outputs": [
    {
     "name": "stderr",
     "output_type": "stream",
     "text": [
      "8000it [00:15, 530.62it/s]\n"
     ]
    }
   ],
   "source": [
    "fiveshot_prompts = fiveshotSampler.create_demonstrations(train_df, test_df, demographics)"
   ]
  },
  {
   "cell_type": "code",
   "execution_count": 10,
   "metadata": {},
   "outputs": [],
   "source": [
    "zeroshotSampler = RandomSampler(shots=0)"
   ]
  },
  {
   "cell_type": "code",
   "execution_count": 11,
   "metadata": {},
   "outputs": [
    {
     "name": "stderr",
     "output_type": "stream",
     "text": [
      "8000it [00:15, 531.54it/s]\n"
     ]
    }
   ],
   "source": [
    "zeroshot_prompts = zeroshotSampler.create_demonstrations(train_df, test_df, demographics)"
   ]
  },
  {
   "cell_type": "code",
   "execution_count": 12,
   "metadata": {},
   "outputs": [],
   "source": [
    "fiveshot_prompts_sample, fiveshot_labels, five_shot_demographics = zip(*random.sample(list(zip(fiveshot_prompts, test_df['labels'].tolist(), test_df['demographics'].tolist())), 100))"
   ]
  },
  {
   "cell_type": "code",
   "execution_count": 13,
   "metadata": {},
   "outputs": [],
   "source": [
    "zeroshot_prompts_sample, zeroshot_labels, zeroshot_demographics = zip(*random.sample(list(zip(zeroshot_prompts, test_df['labels'].tolist(), test_df['demographics'].tolist())), 100))"
   ]
  },
  {
   "cell_type": "code",
   "execution_count": 14,
   "metadata": {},
   "outputs": [
    {
     "name": "stderr",
     "output_type": "stream",
     "text": [
      "100%|██████████| 100/100 [00:29<00:00,  3.36it/s]\n"
     ]
    },
    {
     "name": "stdout",
     "output_type": "stream",
     "text": [
      "Before Five\n",
      "100\n",
      "100\n",
      "After Five\n",
      "100\n",
      "100\n"
     ]
    },
    {
     "name": "stderr",
     "output_type": "stream",
     "text": [
      "100%|██████████| 100/100 [00:27<00:00,  3.59it/s]\n"
     ]
    },
    {
     "name": "stdout",
     "output_type": "stream",
     "text": [
      "Before Zero\n",
      "100\n",
      "100\n",
      "After Zero\n",
      "100\n",
      "100\n"
     ]
    },
    {
     "name": "stderr",
     "output_type": "stream",
     "text": [
      "100% 4/4 [00:38<00:00,  9.58s/it]\n"
     ]
    },
    {
     "name": "stdout",
     "output_type": "stream",
     "text": [
      "Before Five\n",
      "100\n",
      "100\n",
      "After Five\n",
      "100\n",
      "100\n"
     ]
    },
    {
     "name": "stderr",
     "output_type": "stream",
     "text": [
      "100% 4/4 [00:37<00:00,  9.45s/it]\n"
     ]
    },
    {
     "name": "stdout",
     "output_type": "stream",
     "text": [
      "Before Zero\n",
      "100\n",
      "100\n",
      "After Zero\n",
      "100\n",
      "100\n"
     ]
    },
    {
     "name": "stderr",
     "output_type": "stream",
     "text": [
      "100%|██████████| 100/100 [00:28<00:00,  3.52it/s]\n"
     ]
    },
    {
     "name": "stdout",
     "output_type": "stream",
     "text": [
      "Before Five\n",
      "100\n",
      "100\n",
      "After Five\n",
      "100\n",
      "100\n"
     ]
    },
    {
     "name": "stderr",
     "output_type": "stream",
     "text": [
      "100%|██████████| 100/100 [00:27<00:00,  3.61it/s]\n"
     ]
    },
    {
     "name": "stdout",
     "output_type": "stream",
     "text": [
      "Before Zero\n",
      "100\n",
      "100\n",
      "After Zero\n",
      "100\n",
      "100\n"
     ]
    },
    {
     "name": "stderr",
     "output_type": "stream",
     "text": [
      "100% 4/4 [00:38<00:00,  9.73s/it]\n"
     ]
    },
    {
     "name": "stdout",
     "output_type": "stream",
     "text": [
      "Before Five\n",
      "100\n",
      "100\n",
      "After Five\n",
      "100\n",
      "100\n"
     ]
    },
    {
     "name": "stderr",
     "output_type": "stream",
     "text": [
      "100% 4/4 [00:41<00:00, 10.28s/it]\n"
     ]
    },
    {
     "name": "stdout",
     "output_type": "stream",
     "text": [
      "Before Zero\n",
      "100\n",
      "100\n",
      "After Zero\n",
      "100\n",
      "100\n"
     ]
    },
    {
     "name": "stderr",
     "output_type": "stream",
     "text": [
      "100%|██████████| 100/100 [00:29<00:00,  3.39it/s]\n"
     ]
    },
    {
     "name": "stdout",
     "output_type": "stream",
     "text": [
      "Before Five\n",
      "100\n",
      "100\n",
      "After Five\n",
      "100\n",
      "100\n"
     ]
    },
    {
     "name": "stderr",
     "output_type": "stream",
     "text": [
      "100%|██████████| 100/100 [00:27<00:00,  3.58it/s]\n"
     ]
    },
    {
     "name": "stdout",
     "output_type": "stream",
     "text": [
      "Before Zero\n",
      "100\n",
      "100\n",
      "After Zero\n",
      "100\n",
      "100\n"
     ]
    },
    {
     "name": "stderr",
     "output_type": "stream",
     "text": [
      "100% 4/4 [00:38<00:00,  9.69s/it]\n"
     ]
    },
    {
     "name": "stdout",
     "output_type": "stream",
     "text": [
      "Before Five\n",
      "100\n",
      "100\n",
      "After Five\n",
      "100\n",
      "100\n"
     ]
    },
    {
     "name": "stderr",
     "output_type": "stream",
     "text": [
      "100% 4/4 [00:43<00:00, 10.81s/it]\n"
     ]
    },
    {
     "name": "stdout",
     "output_type": "stream",
     "text": [
      "Before Zero\n",
      "100\n",
      "100\n",
      "After Zero\n",
      "100\n",
      "100\n"
     ]
    },
    {
     "name": "stderr",
     "output_type": "stream",
     "text": [
      "100%|██████████| 100/100 [00:28<00:00,  3.53it/s]\n"
     ]
    },
    {
     "name": "stdout",
     "output_type": "stream",
     "text": [
      "Before Five\n",
      "100\n",
      "100\n",
      "After Five\n",
      "100\n",
      "100\n"
     ]
    },
    {
     "name": "stderr",
     "output_type": "stream",
     "text": [
      "100%|██████████| 100/100 [00:28<00:00,  3.55it/s]\n"
     ]
    },
    {
     "name": "stdout",
     "output_type": "stream",
     "text": [
      "Before Zero\n",
      "100\n",
      "100\n",
      "After Zero\n",
      "100\n",
      "100\n"
     ]
    },
    {
     "name": "stderr",
     "output_type": "stream",
     "text": [
      "100% 4/4 [00:44<00:00, 11.07s/it]\n"
     ]
    },
    {
     "name": "stdout",
     "output_type": "stream",
     "text": [
      "Before Five\n",
      "100\n",
      "100\n",
      "After Five\n",
      "100\n",
      "100\n"
     ]
    },
    {
     "name": "stderr",
     "output_type": "stream",
     "text": [
      "100% 4/4 [00:37<00:00,  9.38s/it]\n"
     ]
    },
    {
     "name": "stdout",
     "output_type": "stream",
     "text": [
      "Before Zero\n",
      "100\n",
      "100\n",
      "After Zero\n",
      "100\n",
      "100\n"
     ]
    },
    {
     "name": "stderr",
     "output_type": "stream",
     "text": [
      "100%|██████████| 100/100 [00:28<00:00,  3.56it/s]\n"
     ]
    },
    {
     "name": "stdout",
     "output_type": "stream",
     "text": [
      "Before Five\n",
      "100\n",
      "100\n",
      "After Five\n",
      "100\n",
      "100\n"
     ]
    },
    {
     "name": "stderr",
     "output_type": "stream",
     "text": [
      "100%|██████████| 100/100 [00:27<00:00,  3.61it/s]\n"
     ]
    },
    {
     "name": "stdout",
     "output_type": "stream",
     "text": [
      "Before Zero\n",
      "100\n",
      "100\n",
      "After Zero\n",
      "100\n",
      "100\n"
     ]
    },
    {
     "name": "stderr",
     "output_type": "stream",
     "text": [
      "100% 4/4 [00:43<00:00, 10.75s/it]\n"
     ]
    },
    {
     "name": "stdout",
     "output_type": "stream",
     "text": [
      "Before Five\n",
      "100\n",
      "100\n",
      "After Five\n",
      "100\n",
      "100\n"
     ]
    },
    {
     "name": "stderr",
     "output_type": "stream",
     "text": [
      "100% 4/4 [00:38<00:00,  9.54s/it]"
     ]
    },
    {
     "name": "stdout",
     "output_type": "stream",
     "text": [
      "Before Zero\n",
      "100\n",
      "100\n",
      "After Zero\n",
      "100\n",
      "100\n"
     ]
    },
    {
     "name": "stderr",
     "output_type": "stream",
     "text": [
      "\n"
     ]
    }
   ],
   "source": [
    "scores = {\n",
    "    'chatgpt' :{\n",
    "        'fiveshot' : [],\n",
    "        'zeroshot' : []\n",
    "    },\n",
    "    'gpt3' : {\n",
    "        'fiveshot' : [],\n",
    "        'zeroshot' : []\n",
    "    }\n",
    "}\n",
    "\n",
    "for i in range(5):\n",
    "    for model_name in [\"chatgpt\", \"gpt3\"]:\n",
    "        model = build_model(model_name, {\"temperature\" : 1, \"max_tokens\" : 5})\n",
    "\n",
    "        fiveshot_responses = model.generate_from_prompts(fiveshot_prompts_sample)\n",
    "        print(\"Before Five\")\n",
    "        print(len(fiveshot_labels))\n",
    "        print(len(five_shot_demographics))\n",
    "        five_shot_score = metrics(fiveshot_responses, fiveshot_labels, \"aae\", five_shot_demographics, [\"wh\", \"aa\"])['total_score']\n",
    "        print(\"After Five\")\n",
    "        print(len(fiveshot_labels))\n",
    "        print(len(five_shot_demographics))\n",
    "\n",
    "        scores[model_name]['fiveshot'].append(five_shot_score)\n",
    "\n",
    "        zeroshot_responses = model.generate_from_prompts(zeroshot_prompts_sample)\n",
    "\n",
    "        print(\"Before Zero\")\n",
    "        print(len(zeroshot_labels))\n",
    "        print(len(zeroshot_demographics))\n",
    "        zero_shot_score = metrics(zeroshot_responses, zeroshot_labels, \"aae\", zeroshot_demographics, [\"wh\", \"aa\"])['total_score']\n",
    "        print(\"After Zero\")\n",
    "        print(len(zeroshot_labels))\n",
    "        print(len(zeroshot_demographics))\n",
    "\n",
    "        scores[model_name]['zeroshot'].append(zero_shot_score)"
   ]
  },
  {
   "cell_type": "code",
   "execution_count": 16,
   "metadata": {},
   "outputs": [
    {
     "name": "stdout",
     "output_type": "stream",
     "text": [
      "Fiveshot mean for aae for chatgpt: 0.5091543945700422\n",
      "Fiveshot std for aae for chatgpt: 0.023851069579887137\n",
      "Zeroshot mean for aae for chatgpt: 0.4302016607438827\n",
      "Zeroshot std for aae for chatgpt: 0.025906495590553275\n",
      "Fiveshot mean for aae for gpt3: 0.702638198070061\n",
      "Fiveshot std for aae for gpt3: 0.010361340599464763\n",
      "Zeroshot mean for aae for gpt3: 0.6010427379095987\n",
      "Zeroshot std for aae for gpt3: 0.011483629003037017\n"
     ]
    }
   ],
   "source": [
    "from statistics import stdev, mean\n",
    "\n",
    "for model in scores:\n",
    "    score = scores[model]\n",
    "\n",
    "    fiveshotstdev = stdev(score['fiveshot'])\n",
    "    fiveshotmean = mean(score['fiveshot'])\n",
    "\n",
    "    zeroshotstdev = stdev(score['zeroshot'])\n",
    "    zeroshotmean = mean(score['zeroshot'])\n",
    "\n",
    "    print(f\"Fiveshot mean for aae for {model}: {fiveshotmean}\")\n",
    "    print(f\"Fiveshot std for aae for {model}: {fiveshotstdev}\")\n",
    "    print(f\"Zeroshot mean for aae for {model}: {zeroshotmean}\")\n",
    "    print(f\"Zeroshot std for aae for {model}: {zeroshotstdev}\")\n",
    "\n",
    "\n",
    " "
   ]
  },
  {
   "cell_type": "code",
   "execution_count": null,
   "metadata": {},
   "outputs": [],
   "source": []
  }
 ],
 "metadata": {
  "kernelspec": {
   "display_name": "fairness",
   "language": "python",
   "name": "python3"
  },
  "language_info": {
   "codemirror_mode": {
    "name": "ipython",
    "version": 3
   },
   "file_extension": ".py",
   "mimetype": "text/x-python",
   "name": "python",
   "nbconvert_exporter": "python",
   "pygments_lexer": "ipython3",
   "version": "3.9.16"
  },
  "orig_nbformat": 4
 },
 "nbformat": 4,
 "nbformat_minor": 2
}
